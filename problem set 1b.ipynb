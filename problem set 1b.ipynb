{
 "cells": [
  {
   "cell_type": "markdown",
   "id": "03a1a4d8",
   "metadata": {},
   "source": [
    "Question 6 Python\n",
    "16. You can turn a word into pig-Latin using the following two rules (simplified):\n",
    "• If the word starts with a consonant, move that letter to the end and append\n",
    "'ay'. For example, 'happy' becomes 'appyhay' and 'pencil' becomes 'encilpay'.\n",
    "• If the word starts with a vowel, simply append 'way' to the end of the word.\n",
    "For example, 'enter' becomes 'enterway' and 'other' becomes 'otherway' . For\n",
    "our purposes, there are 5 vowels: a, e, i, o, u (so we count y as a consonant).\n",
    "Write a function pig() that takes a word (i.e., a string) as input and returns its pigLatin form. Your function should still work if the input word contains upper case\n",
    "characters. Your output should always be lower case however.\n",
    ">>> pig('happy')\n",
    "'appyhay'\n",
    ">>> pig('Enter')\n",
    "'enterway' "
   ]
  },
  {
   "cell_type": "code",
   "execution_count": 18,
   "id": "f4e1a793",
   "metadata": {},
   "outputs": [
    {
     "name": "stdout",
     "output_type": "stream",
     "text": [
      "appyhay\n",
      "enterway\n"
     ]
    }
   ],
   "source": [
    "def pig(word):\n",
    "    # change the word to lowercase\n",
    "  word =word.lower()\n",
    "# check if the first letter is a vowel\n",
    "  if word[0] in {\"a\",\"e\",\"i\",\"o\",\"u\"}:\n",
    "    # If it is a vowel append \"way\" to the end of the word    \n",
    "        return (word+\"way\")\n",
    "  else :\n",
    "     # If not, move the first letter to the end and add \"ay\"\n",
    "        return word[1:]+word[0]+\"ay\"\n",
    "    # Test the function with example words\n",
    "print(pig(\"happy\"))\n",
    "print(pig(\"enter\"))"
   ]
  },
  {
   "cell_type": "markdown",
   "id": "72cc88a4",
   "metadata": {},
   "source": [
    "Question 7 Python\n",
    "File bloodtype1.txt records blood-types of patients (A, B, AB, O or OO) at a clinic.\n",
    "Write a function bldcount() that reads the file with name name and reports (i.e.,\n",
    "prints) how many patients there are in each bloodtype.\n",
    ">>> bldcount('bloodtype.txt')\n",
    "There are 10 patients of blood type A.\n",
    "There is one patient of blood type B.\n",
    "There are 10 patients of blood type AB.\n",
    "There are 12 patients of blood type O.\n",
    "There are no patients of blood type OO."
   ]
  },
  {
   "cell_type": "code",
   "execution_count": 10,
   "id": "ab2194b0",
   "metadata": {},
   "outputs": [
    {
     "name": "stdout",
     "output_type": "stream",
     "text": [
      "There are 15 patients of blood type A.\n",
      "There is one patient of blood type B.\n",
      "There are 13 patients of blood type AB.\n",
      "There are 15 patients of blood type O.\n",
      "There are no patients of blood type OO.\n"
     ]
    }
   ],
   "source": [
    "def bldcount(file):\n",
    "    intfile = open(file, 'r')\n",
    "    content = intfile.read()\n",
    "    wordList = content.split()\n",
    "    counts = {\"A\": 0,\"B\": 0,\"AB\" : 0,\"O\": 0,\"OO\": 0}\n",
    "    #Count the occurences of each blood type\n",
    "    for bloodType in wordList:\n",
    "        if bloodType in counts:\n",
    "            counts[bloodType] +=1\n",
    "    #Print the counts for each blood type\n",
    "    for bloodType, count in counts.items():\n",
    "        if count ==1:\n",
    "            print(f\"There is one patient of blood type {bloodType}.\")\n",
    "        elif count > 1:\n",
    "            print(f\"There are {count} patients of blood type {bloodType}.\")\n",
    "        else:\n",
    "            print(f\"There are no patients of blood type {bloodType}.\")\n",
    "bldcount(r'C:\\Users\\benil\\Downloads\\bloodtype1.txt')"
   ]
  },
  {
   "cell_type": "markdown",
   "id": "9b2c9ad9",
   "metadata": {},
   "source": [
    "Question 8 Python\n",
    "Write a function curconv() that takes as input:\n",
    "1. a currency represented using a string (e.g., 'JPY' for the Japanese Yen or\n",
    "'EUR' for the Euro)\n",
    "2. an amount\n",
    "and then converts and returns the amount in US dollars.\n",
    ">>> curconv('EUR', 100)\n",
    "122.96544\n",
    ">>> curconv('JPY', 100)\n",
    "1.241401\n",
    "The currency rates you will need are stored in file currencies.txt:\n",
    "AUD 1.0345157 Australian Dollar\n",
    "CHF 1.0237414 Swiss Franc\n",
    "CNY 0.1550176 Chinese Yuan\n",
    "DKK 0.1651442 Danish Krone\n",
    "EUR 1.2296544 Euro\n",
    "GBP 1.5550989 British Pound\n",
    "HKD 0.1270207 Hong Kong Dollar\n",
    "INR 0.0177643 Indian Rupee\n",
    "JPY 0.01241401 Japanese Yen\n",
    "MXN 0.0751848 Mexican Peso\n",
    "MYR 0.3145411 Malaysian Ringgit\n",
    "NOK 0.1677063 Norwegian Krone\n",
    "NZD 0.8003591 New Zealand Dollar\n",
    "PHP 0.0233234 Philippine Peso\n",
    "SEK 0.148269 Swedish Krona\n",
    "SGD 0.788871 Singapore Dollar\n",
    "THB 0.0313789 Thai Baht"
   ]
  },
  {
   "cell_type": "code",
   "execution_count": 17,
   "id": "1af4f56e",
   "metadata": {},
   "outputs": [
    {
     "name": "stdout",
     "output_type": "stream",
     "text": [
      "300 AUD is equivalent to 310.35 USD\n"
     ]
    }
   ],
   "source": [
    "def curconv(currency, amount):\n",
    "    Forex_rates = {\n",
    "        'AUD': 1.0345157,\n",
    "        'CHF': 1.0237414,\n",
    "        'CNY': 0.1550176,\n",
    "        'DKK': 0.1651442,\n",
    "        'EUR': 1.2296544,\n",
    "        'GBP': 1.5550989,\n",
    "        'HKD': 0.1270207,\n",
    "        'INR': 0.0177643,\n",
    "        'JPY': 0.01241401,\n",
    "        'MXN': 0.0751848,\n",
    "        'MYR': 0.3145411,\n",
    "        'NOK': 0.1677063,\n",
    "        'NZD': 0.8003591,\n",
    "        'PHP': 0.0233234,\n",
    "        'SEK': 0.148269,\n",
    "        'SGD': 0.788871,\n",
    "        'THB': 0.0313789\n",
    "    }\n",
    "    \n",
    "    if currency in Forex_rates:\n",
    "        usd_amount = amount * Forex_rates[currency]\n",
    "        return usd_amount\n",
    "    else:\n",
    "        return \"Currency code not found in the Forex rates dictionary.\"\n",
    "\n",
    "amount_in_AUD = 300\n",
    "usd_equivalent = curconv('AUD', amount_in_AUD)\n",
    "\n",
    "if isinstance(usd_equivalent, float):\n",
    "    print(f\"{amount_in_AUD} AUD is equivalent to {usd_equivalent:.2f} USD\")\n",
    "else:\n",
    "    print(usd_equivalent)\n",
    "      "
   ]
  },
  {
   "cell_type": "markdown",
   "id": "ab090695",
   "metadata": {},
   "source": [
    "Question 9 Python\n",
    "Each of the following will cause an exception (an error). Identify what type of\n",
    "exception each will cause.\n",
    "Trying to add incompatible variables, as in\n",
    "adding 6 + ‘a’\n",
    "Referring to the 12th item of a list that has only 10\n",
    "items\n",
    "Using a value that is out of range for a function’s\n",
    "input, such as calling math.sqrt(-1.0)\n",
    "Using an undeclared variable, such as print(x)\n",
    "when x has not been defined\n",
    "Trying to open a file that does not exist, such as\n",
    "mistyping the file name or looking in the wrong\n",
    "directory. "
   ]
  },
  {
   "cell_type": "markdown",
   "id": "bc3b6c33",
   "metadata": {},
   "source": [
    "Answers\n",
    "\n",
    "1.Type Error\n",
    "2.Index Error\n",
    "3.Value Error\n",
    "4.Name Error\n",
    "5.File Error"
   ]
  },
  {
   "cell_type": "markdown",
   "id": "d521c7e5",
   "metadata": {},
   "source": [
    "Question 10 Python\n",
    "Encryption is the process of hiding the meaning of a text by substituting letters in the\n",
    "message with other letters, according to some system. If the process is successful, no\n",
    "one but the intended recipient can understand the encrypted message. Cryptanalysis\n",
    "refers to attempts to undo the encryption, even if some details of the encryption are\n",
    "unknown (for example, if an encrypted message has been intercepted). The first step\n",
    "of cryptanalysis is often to build up a table of letter frequencies in the encrypted text.\n",
    "Assume that the string letters is already defined as\n",
    "'abcdefghijklmnopqrstuvwxyz'. Write a function called frequencies()\n",
    "that takes a string as its only parameter, and returns a list of integers, showing the\n",
    "number of times each character appears in the text. Your function may ignore any\n",
    "characters that are not in letters.\n",
    ">>> frequencies('The quick red fox got bored and went home.')\n",
    "[1, 1, 1, 3, 5, 1, 1, 2, 1, 0, 1, 0, 1, 2, 4, 0, 1, 2, 0, 2,\n",
    "1, 0, 1, 1, 0, 0]\n",
    ">>> frequencies('apple')"
   ]
  },
  {
   "cell_type": "code",
   "execution_count": 20,
   "id": "9a06f7b8",
   "metadata": {},
   "outputs": [
    {
     "name": "stdout",
     "output_type": "stream",
     "text": [
      "[1, 1, 1, 1, 1, 1, 1, 2, 1, 0, 1, 0, 1, 2, 4, 0, 1, 2, 0, 1, 1, 0, 1, 1, 0, 0]\n",
      "[1, 0, 0, 0, 1, 0, 0, 0, 0, 0, 0, 1, 0, 0, 0, 2, 0, 0, 0, 0, 0, 0, 0, 0, 0, 0]\n"
     ]
    }
   ],
   "source": [
    "def frequencies(text):       # Define a function called 'frequencies' that takes a text input\n",
    "    letter = \"abcdefghijklmnopqrstuvwxyz\"\n",
    "    letterFrequencies = [0]*len(letter)    # Create a list to store letter frequencies, initialized to zero\n",
    "    text = text.lower()\n",
    "    for char in text:\n",
    "        if char in letter:\n",
    "            index = letter.index(char)   # Find the index of the character in the 'letter' string\n",
    "            letterFrequencies[index]+=1\n",
    "        else:\n",
    "             # Handle the case where a non-letter character is encountered\n",
    "            # Set the frequency count to 1 (not clear why this is done)\n",
    "            letterFrequencies[index]= 1\n",
    "    return letterFrequencies    # Return the list of letter frequencies\n",
    "text1 = frequencies(\"The quick red fox got bored and went home.\")\n",
    "print(text1)\n",
    "\n",
    "\n",
    "text2 = frequencies(\"apple\")\n",
    "print(text2)"
   ]
  }
 ],
 "metadata": {
  "kernelspec": {
   "display_name": "Python 3 (ipykernel)",
   "language": "python",
   "name": "python3"
  },
  "language_info": {
   "codemirror_mode": {
    "name": "ipython",
    "version": 3
   },
   "file_extension": ".py",
   "mimetype": "text/x-python",
   "name": "python",
   "nbconvert_exporter": "python",
   "pygments_lexer": "ipython3",
   "version": "3.11.4"
  }
 },
 "nbformat": 4,
 "nbformat_minor": 5
}
